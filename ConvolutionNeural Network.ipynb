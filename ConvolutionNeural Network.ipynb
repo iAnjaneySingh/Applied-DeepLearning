{
  "nbformat": 4,
  "nbformat_minor": 0,
  "metadata": {
    "colab": {
      "name": "day2-CNN.ipynb",
      "provenance": [],
      "collapsed_sections": [],
      "toc_visible": true
    },
    "kernelspec": {
      "name": "python3",
      "display_name": "Python 3"
    }
  },
  "cells": [
    {
      "cell_type": "markdown",
      "metadata": {
        "id": "SpSnhz6KwAR2"
      },
      "source": [
        "## **Convolutional Neural Network (CNN)**\n"
      ]
    },
    {
      "cell_type": "markdown",
      "metadata": {
        "id": "3_aaAC2BTt51"
      },
      "source": [
        "# Extract the .zip file "
      ]
    },
    {
      "cell_type": "code",
      "metadata": {
        "id": "Nd8knNt33N2j",
        "colab": {
          "base_uri": "https://localhost:8080/",
          "height": 34
        },
        "outputId": "99a35af8-def3-46e5-fb7e-3a69d407ee31"
      },
      "source": [
        "from zipfile import ZipFile\n",
        "file_name = 'Data.zip'\n",
        "with ZipFile(file_name, 'r') as zip:\n",
        "  zip.extractall()\n",
        "  print(\"Done\")"
      ],
      "execution_count": null,
      "outputs": [
        {
          "output_type": "stream",
          "text": [
            "Done\n"
          ],
          "name": "stdout"
        }
      ]
    },
    {
      "cell_type": "markdown",
      "metadata": {
        "id": "T6sPb6S9wTew"
      },
      "source": [
        "# Load Libraries"
      ]
    },
    {
      "cell_type": "markdown",
      "metadata": {
        "id": "xZw7VarZwd-G"
      },
      "source": [
        "First step is to load the required libraries."
      ]
    },
    {
      "cell_type": "code",
      "metadata": {
        "id": "xWwF5yAuw2Xx"
      },
      "source": [
        "import numpy as np\n",
        "\n",
        "import matplotlib.pyplot as plt\n",
        "\n",
        "from keras.models import Sequential\n",
        "\n",
        "from keras.layers import Dense , Conv2D, Flatten, MaxPooling2D\n",
        "\n",
        "from keras.utils import np_utils"
      ],
      "execution_count": null,
      "outputs": []
    },
    {
      "cell_type": "markdown",
      "metadata": {
        "id": "578Oi4Mgw9hr"
      },
      "source": [
        "# Load Dataset from Images"
      ]
    },
    {
      "cell_type": "markdown",
      "metadata": {
        "id": "dxW0gFlxxAK9"
      },
      "source": [
        "In the root directory, there is a `Data' folder containing separate folders train and test. train and test contains training data and testing data respectively. Inside these, we have multiple folders each corresponding to a particular class. And each of them contains images of that class. In the given dataset, we have $10$ folders each in train and test corresponding to the $10$ classes $(0,1,...,9)$. So our task is to extract the data from images into numpy arrays."
      ]
    },
    {
      "cell_type": "code",
      "metadata": {
        "id": "mM75Wk8LBhql",
        "colab": {
          "base_uri": "https://localhost:8080/",
          "height": 34
        },
        "outputId": "eb2c6fe7-6604-40da-f51e-733c08dac9f8"
      },
      "source": [
        "import os\n",
        "\n",
        "import cv2\n",
        "\n",
        "# load data from the path specified by the user\n",
        "\n",
        "def data_loader(path_train, path_test):\n",
        "  train_list=os.listdir(path_train)\n",
        "  \n",
        "  # Number of classes in the dataset\n",
        "  num_classes=len(train_list)\n",
        "  \n",
        "  # Empty lists for loading training and testing data images as well as corresponding labels\n",
        "  x_train=[]\n",
        "  y_train=[]\n",
        "  x_test=[]\n",
        "  y_test=[]\n",
        "  \n",
        "  # Loading training data\n",
        "  for label,elem in enumerate(train_list):\n",
        "    path1=path_train+'/'+str(elem)\n",
        "    images=os.listdir(path1)\n",
        "    for elem2 in images:\n",
        "      path2=path1+'/'+str(elem2)\n",
        "      \n",
        "      # Read the image form the directory\n",
        "      img = cv2.imread(path2)\n",
        "      \n",
        "      # Append image to the train data list\n",
        "      x_train.append(img)\n",
        "      \n",
        "      # Append class-label corresponding to the image\n",
        "      y_train.append(label)\n",
        "    \n",
        "    # Loading testing data\n",
        "    path1=path_test+'/'+str(elem)\n",
        "    images=os.listdir(path1)\n",
        "    for elem2 in images:\n",
        "      path2=path1+'/'+str(elem2)\n",
        "      \n",
        "      # Read the image form the directory\n",
        "      img = cv2.imread(path2)\n",
        "      \n",
        "      # Append image to the test data list\n",
        "      x_test.append(img)\n",
        "      \n",
        "      # Append class-label corresponding to the image\n",
        "      y_test.append(label)\n",
        "  \n",
        "  # Convert lists into numpy arrays\n",
        "  x_train=np.asarray(x_train)\n",
        "  y_train=np.asarray(y_train)\n",
        "  x_test=np.asarray(x_test)\n",
        "  y_test=np.asarray(y_test)\n",
        "  return x_train,y_train,x_test,y_test\n",
        "\n",
        "# path specified by the user\n",
        "path_train = 'Data/train'\n",
        "path_test = 'Data/test'\n",
        "X_train,y_train,X_test,y_test = data_loader(path_train, path_test)\n",
        "\n",
        "print(\"Loading Done\")"
      ],
      "execution_count": null,
      "outputs": [
        {
          "output_type": "stream",
          "text": [
            "Loading Done\n"
          ],
          "name": "stdout"
        }
      ]
    },
    {
      "cell_type": "code",
      "metadata": {
        "id": "waqLowS4KAPT",
        "colab": {
          "base_uri": "https://localhost:8080/",
          "height": 34
        },
        "outputId": "5dc64d0b-0cc4-4073-c2cd-f3ac28de791e"
      },
      "source": [
        "X_train.shape\n"
      ],
      "execution_count": null,
      "outputs": [
        {
          "output_type": "execute_result",
          "data": {
            "text/plain": [
              "(60000, 28, 28, 3)"
            ]
          },
          "metadata": {
            "tags": []
          },
          "execution_count": 7
        }
      ]
    },
    {
      "cell_type": "code",
      "metadata": {
        "id": "hPWoHUh7KAxE",
        "colab": {
          "base_uri": "https://localhost:8080/",
          "height": 34
        },
        "outputId": "01c78a41-8817-42d1-97b0-96dba6e15f22"
      },
      "source": [
        "y_train.shape"
      ],
      "execution_count": null,
      "outputs": [
        {
          "output_type": "execute_result",
          "data": {
            "text/plain": [
              "(60000,)"
            ]
          },
          "metadata": {
            "tags": []
          },
          "execution_count": 8
        }
      ]
    },
    {
      "cell_type": "code",
      "metadata": {
        "id": "8KUnVIfdKBD0",
        "colab": {
          "base_uri": "https://localhost:8080/",
          "height": 34
        },
        "outputId": "1ba439b2-7c6b-462d-ae6a-1fcf550a345c"
      },
      "source": [
        "X_test.shape"
      ],
      "execution_count": null,
      "outputs": [
        {
          "output_type": "execute_result",
          "data": {
            "text/plain": [
              "(10000, 28, 28, 3)"
            ]
          },
          "metadata": {
            "tags": []
          },
          "execution_count": 10
        }
      ]
    },
    {
      "cell_type": "code",
      "metadata": {
        "id": "9TObTxESKBVI",
        "colab": {
          "base_uri": "https://localhost:8080/",
          "height": 34
        },
        "outputId": "2e377485-e1b1-4554-d158-879a46b971ec"
      },
      "source": [
        "y_test.shape"
      ],
      "execution_count": null,
      "outputs": [
        {
          "output_type": "execute_result",
          "data": {
            "text/plain": [
              "(10000,)"
            ]
          },
          "metadata": {
            "tags": []
          },
          "execution_count": 11
        }
      ]
    },
    {
      "cell_type": "markdown",
      "metadata": {
        "id": "0C1TncQhzapf"
      },
      "source": [
        "# Formatting Data and Labels for Deep Learning"
      ]
    },
    {
      "cell_type": "code",
      "metadata": {
        "id": "WUAPRSm5zj0q"
      },
      "source": [
        "input_shape = (X_train.shape[1], X_train.shape[2], X_train.shape[3])\n",
        "\n",
        "# forcing the precision of the pixel values to be 32 bit\n",
        "X_train = X_train.astype('float32')\n",
        "X_test = X_test.astype('float32')\n",
        "\n",
        "# normalize inputs from 0-255 to 0-1\n",
        "X_train = X_train / 255.\n",
        "X_test = X_test / 255.\n",
        "\n",
        "# one hot encode outputs using np_utils.to_categorical inbuilt function\n",
        "y_train = np_utils.to_categorical(y_train)\n",
        "y_test = np_utils.to_categorical(y_test)\n",
        "\n",
        "num_classes = y_test.shape[1]"
      ],
      "execution_count": null,
      "outputs": []
    },
    {
      "cell_type": "markdown",
      "metadata": {
        "id": "-QgLGCF-K67J"
      },
      "source": [
        "# Splitting Data into Training, and Validation"
      ]
    },
    {
      "cell_type": "code",
      "metadata": {
        "id": "IlB928RI0LWk"
      },
      "source": [
        "from sklearn.model_selection import train_test_split\n",
        "\n",
        "#Splitting the trining data into training and validation\n",
        "\n",
        "X_train, X_val, y_train, y_val = train_test_split(X_train, y_train, test_size=0.2)"
      ],
      "execution_count": null,
      "outputs": []
    },
    {
      "cell_type": "markdown",
      "metadata": {
        "id": "jW-ENuBdLFiS"
      },
      "source": [
        "\n",
        "# Defining a Shallow CNN Model"
      ]
    },
    {
      "cell_type": "markdown",
      "metadata": {
        "id": "-rxUskoBMZPF"
      },
      "source": [
        "Here we define a small CNN network. It contains a convolutional layer having 32 filters each of size (3 × 3).\n",
        "Then we flatten the feature map and add 2 dense layers. First one having 100 neurons and last one having\n",
        "10 neurons i.e. equal to number of classes."
      ]
    },
    {
      "cell_type": "code",
      "metadata": {
        "id": "ovc-O8gEMfbl",
        "colab": {
          "base_uri": "https://localhost:8080/",
          "height": 106
        },
        "outputId": "827456fb-1861-43a2-ea5d-342ee1099f65"
      },
      "source": [
        "model = Sequential()\n",
        "model.add(Conv2D(32, (3,3), strides = (1,1), padding = 'same' , input_shape=input_shape, activation='relu'))\n",
        "model.add(Flatten())\n",
        "model.add(Dense(100, activation='relu'))\n",
        "model.add(Dense(num_classes, activation='softmax'))"
      ],
      "execution_count": null,
      "outputs": [
        {
          "output_type": "stream",
          "text": [
            "WARNING:tensorflow:From /usr/local/lib/python3.6/dist-packages/keras/backend/tensorflow_backend.py:541: The name tf.placeholder is deprecated. Please use tf.compat.v1.placeholder instead.\n",
            "\n",
            "WARNING:tensorflow:From /usr/local/lib/python3.6/dist-packages/keras/backend/tensorflow_backend.py:4432: The name tf.random_uniform is deprecated. Please use tf.random.uniform instead.\n",
            "\n"
          ],
          "name": "stdout"
        }
      ]
    },
    {
      "cell_type": "markdown",
      "metadata": {
        "id": "0woBCP1C0TV-"
      },
      "source": [
        "\n",
        "# Compiling the model"
      ]
    },
    {
      "cell_type": "markdown",
      "metadata": {
        "id": "4aSmUA3-0WIJ"
      },
      "source": [
        "Once the model is defined, we have to compile it. While compiling we provide the loss function to be used, the optimizer and any metric. Here we will use crossentropy loss with Adam optimizer and accuracy as a metric."
      ]
    },
    {
      "cell_type": "code",
      "metadata": {
        "id": "c8n--FDX0YjB",
        "colab": {
          "base_uri": "https://localhost:8080/",
          "height": 106
        },
        "outputId": "70b16a0b-90e7-41b5-aea6-a32a0cf5d5a9"
      },
      "source": [
        "# Compile model\n",
        "\n",
        "model.compile(loss='categorical_crossentropy', optimizer='adam', metrics=['accuracy'])"
      ],
      "execution_count": null,
      "outputs": [
        {
          "output_type": "stream",
          "text": [
            "WARNING:tensorflow:From /usr/local/lib/python3.6/dist-packages/keras/optimizers.py:793: The name tf.train.Optimizer is deprecated. Please use tf.compat.v1.train.Optimizer instead.\n",
            "\n",
            "WARNING:tensorflow:From /usr/local/lib/python3.6/dist-packages/keras/backend/tensorflow_backend.py:3576: The name tf.log is deprecated. Please use tf.math.log instead.\n",
            "\n"
          ],
          "name": "stdout"
        }
      ]
    },
    {
      "cell_type": "markdown",
      "metadata": {
        "id": "xq5f_ROP0ieD"
      },
      "source": [
        "# Training/Fitting the model"
      ]
    },
    {
      "cell_type": "markdown",
      "metadata": {
        "id": "V3gWi2g40kSf"
      },
      "source": [
        "Now the model is ready to be trained. We will provide training data to the network. Also we will specify the validation data, over which the model will only be validated."
      ]
    },
    {
      "cell_type": "code",
      "metadata": {
        "id": "xsJq43ok0mlT",
        "colab": {
          "base_uri": "https://localhost:8080/",
          "height": 372
        },
        "outputId": "de17b62d-e978-4a8d-d4b9-79196dba5d97"
      },
      "source": [
        "# Training model\n",
        "\n",
        "history = model.fit(X_train, y_train, validation_data=(X_val, y_val), epochs=10, batch_size=200)\n",
        "\n",
        "plt.plot(history.history['acc'])\n",
        "plt.plot(history.history['val_acc'])\n",
        "plt.legend(['training', 'validation'], loc = 'upper left')\n",
        "plt.show()\n"
      ],
      "execution_count": null,
      "outputs": [
        {
          "output_type": "stream",
          "text": [
            "Train on 48000 samples, validate on 12000 samples\n",
            "Epoch 1/2\n",
            "48000/48000 [==============================] - 42s 870us/step - loss: 0.0035 - acc: 0.9989 - val_loss: 0.0698 - val_acc: 0.9842\n",
            "Epoch 2/2\n",
            "48000/48000 [==============================] - 42s 867us/step - loss: 0.0012 - acc: 0.9998 - val_loss: 0.0829 - val_acc: 0.9825\n"
          ],
          "name": "stdout"
        },
        {
          "output_type": "display_data",
          "data": {
            "image/png": "[encoded data removed]",
            "text/plain": [
              "<Figure size 432x288 with 1 Axes>"
            ]
          },
          "metadata": {
            "tags": []
          }
        }
      ]
    },
    {
      "cell_type": "markdown",
      "metadata": {
        "id": "b4BjzfDW0w6v"
      },
      "source": [
        "# Evaluating the model"
      ]
    },
    {
      "cell_type": "markdown",
      "metadata": {
        "id": "_0FdSOdT01df"
      },
      "source": [
        "Finally we will evaluate the model on the testing dataset."
      ]
    },
    {
      "cell_type": "code",
      "metadata": {
        "id": "atp-I5qg04Ao",
        "colab": {
          "base_uri": "https://localhost:8080/",
          "height": 52
        },
        "outputId": "a0501020-87a2-4077-8fe0-62889176582b"
      },
      "source": [
        "# Final evaluation of the model\n",
        "\n",
        "scores = model.evaluate(X_test, y_test)\n",
        "\n",
        "print(\"Baseline Error: %.2f%%\" % (100-scores[1]*100))"
      ],
      "execution_count": null,
      "outputs": [
        {
          "output_type": "stream",
          "text": [
            "10000/10000 [==============================] - 3s 333us/step\n",
            "Baseline Error: 1.87%\n"
          ],
          "name": "stdout"
        }
      ]
    },
    {
      "cell_type": "markdown",
      "metadata": {
        "id": "7Ux0ZGYe1Abb"
      },
      "source": [
        "\n",
        "# Defining a Deep Model"
      ]
    },
    {
      "cell_type": "markdown",
      "metadata": {
        "id": "N9zn7vqG1DUh"
      },
      "source": [
        "Now we will define a multi layer neural network in which we will add $2$ hidden layers having $500$ and $100$ neurons."
      ]
    },
    {
      "cell_type": "code",
      "metadata": {
        "id": "NyWnrEko1D-4",
        "colab": {
          "base_uri": "https://localhost:8080/",
          "height": 176
        },
        "outputId": "c75ae975-0ecc-4a23-ddca-034ba9640c7e"
      },
      "source": [
        "model = Sequential()\n",
        "model.add(Conv2D(32, (3, 3), strides=(1, 1), padding = 'same' , input_shape = input_shape, activation = 'relu'))\n",
        "model.add(Conv2D(32, (3, 3), strides=(1, 1), padding = 'same', activation = 'relu'))\n",
        "model.add(MaxPooling2D((2, 2), strides=(2, 2), padding = 'valid'))\n",
        "model.add(Conv2D(64, (3, 3), strides=(1, 1), padding = 'same', activation = 'relu'))\n",
        "model.add(Conv2D(64, (3, 3), strides=(1, 1), padding = 'same', activation = 'relu'))\n",
        "model.add(Flatten())\n",
        "model.add(Dense(500, activation='relu'))\n",
        "model.add(Dense(100, activation='relu'))\n",
        "model.add(Dense(num_classes, activation='softmax'))"
      ],
      "execution_count": null,
      "outputs": [
        {
          "output_type": "stream",
          "text": [
            "WARNING:tensorflow:From /usr/local/lib/python3.6/dist-packages/keras/backend/tensorflow_backend.py:66: The name tf.get_default_graph is deprecated. Please use tf.compat.v1.get_default_graph instead.\n",
            "\n",
            "WARNING:tensorflow:From /usr/local/lib/python3.6/dist-packages/keras/backend/tensorflow_backend.py:541: The name tf.placeholder is deprecated. Please use tf.compat.v1.placeholder instead.\n",
            "\n",
            "WARNING:tensorflow:From /usr/local/lib/python3.6/dist-packages/keras/backend/tensorflow_backend.py:4432: The name tf.random_uniform is deprecated. Please use tf.random.uniform instead.\n",
            "\n",
            "WARNING:tensorflow:From /usr/local/lib/python3.6/dist-packages/keras/backend/tensorflow_backend.py:4267: The name tf.nn.max_pool is deprecated. Please use tf.nn.max_pool2d instead.\n",
            "\n"
          ],
          "name": "stdout"
        }
      ]
    },
    {
      "cell_type": "markdown",
      "metadata": {
        "id": "PuDzWGiuS9gE"
      },
      "source": [
        "# Analyzing Model Summary"
      ]
    },
    {
      "cell_type": "markdown",
      "metadata": {
        "id": "5u8hQOzITCQ2"
      },
      "source": [
        "The following function provides us with detailed summary of the model. We can use it after we have defined\n",
        "our model."
      ]
    },
    {
      "cell_type": "code",
      "metadata": {
        "id": "4gQkPJ5BTLxc",
        "colab": {
          "base_uri": "https://localhost:8080/",
          "height": 469
        },
        "outputId": "9b4ae063-3257-409b-f6bb-9b7b4895e298"
      },
      "source": [
        "model.summary()"
      ],
      "execution_count": null,
      "outputs": [
        {
          "output_type": "stream",
          "text": [
            "Model: \"sequential_4\"\n",
            "_________________________________________________________________\n",
            "Layer (type)                 Output Shape              Param #   \n",
            "=================================================================\n",
            "conv2d_4 (Conv2D)            (None, 28, 28, 32)        896       \n",
            "_________________________________________________________________\n",
            "conv2d_5 (Conv2D)            (None, 28, 28, 32)        9248      \n",
            "_________________________________________________________________\n",
            "max_pooling2d_1 (MaxPooling2 (None, 14, 14, 32)        0         \n",
            "_________________________________________________________________\n",
            "conv2d_6 (Conv2D)            (None, 14, 14, 64)        18496     \n",
            "_________________________________________________________________\n",
            "conv2d_7 (Conv2D)            (None, 14, 14, 64)        36928     \n",
            "_________________________________________________________________\n",
            "flatten_4 (Flatten)          (None, 12544)             0         \n",
            "_________________________________________________________________\n",
            "dense_7 (Dense)              (None, 500)               6272500   \n",
            "_________________________________________________________________\n",
            "dense_8 (Dense)              (None, 100)               50100     \n",
            "_________________________________________________________________\n",
            "dense_9 (Dense)              (None, 10)                1010      \n",
            "=================================================================\n",
            "Total params: 6,389,178\n",
            "Trainable params: 6,389,178\n",
            "Non-trainable params: 0\n",
            "_________________________________________________________________\n"
          ],
          "name": "stdout"
        }
      ]
    },
    {
      "cell_type": "code",
      "metadata": {
        "id": "2OT0zQrT1FtF",
        "colab": {
          "base_uri": "https://localhost:8080/",
          "height": 407
        },
        "outputId": "ad44dfd9-ec95-4fc3-e5ce-4eaf958ad5d7"
      },
      "source": [
        "import h5py\n",
        "\n",
        "# Compile model\n",
        "\n",
        "model.compile(loss='categorical_crossentropy', optimizer='adam', metrics=['accuracy'])\n",
        "\n",
        "# Training model\n",
        "\n",
        "history = model.fit(X_train, y_train, validation_data=(X_val, y_val), epochs=2, batch_size=200)\n",
        "\n",
        "model.save_weights('CNN.h5')\n",
        "\n",
        "plt.plot(history.history['acc'])\n",
        "plt.plot(history.history['val_acc'])\n",
        "plt.legend(['training', 'validation'], loc = 'upper left')\n",
        "plt.show()\n",
        "\n",
        "# Final evaluation of the model\n",
        "\n",
        "scores = model.evaluate(X_test, y_test)\n",
        "\n",
        "print(\"Baseline Error: %.2f%%\" % (100-scores[1]*100))"
      ],
      "execution_count": null,
      "outputs": [
        {
          "output_type": "stream",
          "text": [
            "Train on 48000 samples, validate on 12000 samples\n",
            "Epoch 1/2\n",
            "48000/48000 [==============================] - 231s 5ms/step - loss: 0.1958 - acc: 0.9402 - val_loss: 0.0568 - val_acc: 0.9834\n",
            "Epoch 2/2\n",
            "48000/48000 [==============================] - 228s 5ms/step - loss: 0.0428 - acc: 0.9873 - val_loss: 0.0485 - val_acc: 0.9853\n"
          ],
          "name": "stdout"
        },
        {
          "output_type": "display_data",
          "data": {
            "image/png": "[encoded data removed]",
            "text/plain": [
              "<Figure size 432x288 with 1 Axes>"
            ]
          },
          "metadata": {
            "tags": []
          }
        },
        {
          "output_type": "stream",
          "text": [
            "10000/10000 [==============================] - 13s 1ms/step\n",
            "Baseline Error: 1.27%\n"
          ],
          "name": "stdout"
        }
      ]
    },
    {
      "cell_type": "markdown",
      "metadata": {
        "id": "1dbczU1E8GBT"
      },
      "source": [
        "# Loading the saved model"
      ]
    },
    {
      "cell_type": "code",
      "metadata": {
        "id": "TqHZJAIW8L7A"
      },
      "source": [
        "model = Sequential()\n",
        "model.add(Conv2D(32, (3, 3), strides=(1, 1), padding = 'same' , input_shape = input_shape, activation = 'relu'))\n",
        "model.add(Conv2D(32, (3, 3), strides=(1, 1), padding = 'same', activation = 'relu'))\n",
        "model.add(MaxPooling2D((2, 2), strides=(2, 2), padding = 'valid'))\n",
        "model.add(Conv2D(64, (3, 3), strides=(1, 1), padding = 'same', activation = 'relu'))\n",
        "model.add(Conv2D(64, (3, 3), strides=(1, 1), padding = 'same', activation = 'relu'))\n",
        "model.add(Flatten())\n",
        "model.add(Dense(500, activation='relu'))\n",
        "model.add(Dense(100, activation='relu'))\n",
        "model.add(Dense(num_classes, activation='softmax'))\n",
        "\n",
        "# Compile model\n",
        "\n",
        "model.compile(loss='categorical_crossentropy', optimizer='adam', metrics=['accuracy'])\n",
        "\n",
        "\n",
        "# Final evaluation of the model\n",
        "\n",
        "scores = model.evaluate(X_test, y_test)\n",
        "\n",
        "print(\"Baseline Error: %.2f%%\" % (100-scores[1]*100))"
      ],
      "execution_count": null,
      "outputs": []
    },
    {
      "cell_type": "code",
      "metadata": {
        "id": "GXWqw37F1QC1"
      },
      "source": [
        "model.load_weights('CNN.h5')\n",
        "\n",
        "# Final evaluation of the model\n",
        "\n",
        "scores = model.evaluate(X_test, y_test)\n",
        "\n",
        "print(\"Baseline Error: %.2f%%\" % (100-scores[1]*100))"
      ],
      "execution_count": null,
      "outputs": []
    },
    {
      "cell_type": "markdown",
      "metadata": {
        "id": "ZAcPJQh9-VBS"
      },
      "source": [
        "# Creating checkpoints of model"
      ]
    },
    {
      "cell_type": "code",
      "metadata": {
        "id": "1Vw5q_-M_xuZ"
      },
      "source": [
        "from keras.callbacks import ModelCheckpoint\n",
        "\n",
        "filepath='CNN.h5'\n",
        "checkpoint = ModelCheckpoint(filepath, monitor='val_acc', save_best_only=True, mode='max')\n",
        "callbacks_list = [checkpoint]\n",
        "model.fit(X_train, y_train, validation_data=(X_val, y_val), epochs=2, batch_size=200, callbacks=callbacks_list)"
      ],
      "execution_count": null,
      "outputs": []
    },
    {
      "cell_type": "markdown",
      "metadata": {
        "id": "11MYT4fQCJM2"
      },
      "source": [
        "# Defining Learning Rate Decay and Other Parameters of Optimizer"
      ]
    },
    {
      "cell_type": "code",
      "metadata": {
        "id": "C5ZWRHHHCPsN",
        "colab": {
          "base_uri": "https://localhost:8080/",
          "height": 69
        },
        "outputId": "f405574e-9c85-4f64-be71-5bb3ef1aa727"
      },
      "source": [
        "from keras.optimizers import SGD, Adam\n",
        "\n",
        "sgd = SGD(lr = 0.001, momentum = 0.0005, decay = 0.0005)\n",
        "\n",
        "#adam = Adam(lr=0.001, beta_1=0.9, beta_2=0.999, epsilon=None, decay=0.0005)\n",
        "\n",
        "#model.compile(loss='categorical_crossentropy', optimizer=adam, metrics=['accuracy'])\n",
        "\n",
        "model.compile(loss='categorical_crossentropy', optimizer=sgd, metrics=['accuracy'])\n",
        "\n",
        "model.fit(X_train, y_train, validation_data=(X_val, y_val), epochs=1, batch_size=200)\n",
        "\n",
        "# Final evaluation of the model\n",
        "\n",
        "scores = model.evaluate(X_test, y_test)\n",
        "\n",
        "print(\"Baseline Error: %.2f%%\" % (100-scores[1]*100))"
      ],
      "execution_count": null,
      "outputs": [
        {
          "output_type": "stream",
          "text": [
            "Train on 48000 samples, validate on 12000 samples\n",
            "Epoch 1/1\n",
            " 2200/48000 [>.............................] - ETA: 3:36 - loss: 2.2740 - acc: 0.2932"
          ],
          "name": "stdout"
        }
      ]
    }
  ]
}