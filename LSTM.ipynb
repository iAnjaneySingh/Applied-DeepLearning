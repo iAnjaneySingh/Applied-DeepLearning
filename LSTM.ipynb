{
  "nbformat": 4,
  "nbformat_minor": 0,
  "metadata": {
    "colab": {
      "name": "LSTM.ipynb",
      "provenance": []
    },
    "kernelspec": {
      "name": "python3",
      "display_name": "Python 3"
    }
  },
  "cells": [
    {
      "cell_type": "markdown",
      "metadata": {
        "id": "H05v5745pzRX",
        "colab_type": "text"
      },
      "source": [
        "#Training keras LSTM to generate sine function"
      ]
    },
    {
      "cell_type": "markdown",
      "metadata": {
        "id": "wUv5d44Vp8Hy",
        "colab_type": "text"
      },
      "source": [
        "A simple recurrent neural network can be used to learn and generate sine function. This probably isn’t a best practical use case, but it’s good starting point for learning and playing with LSTMs."
      ]
    },
    {
      "cell_type": "markdown",
      "metadata": {
        "id": "oiAcKD65qM53",
        "colab_type": "text"
      },
      "source": [
        "# Prepare Data"
      ]
    },
    {
      "cell_type": "code",
      "metadata": {
        "id": "b6rOhGguqTSN",
        "colab_type": "code",
        "colab": {}
      },
      "source": [
        "import numpy as np\n",
        "import matplotlib.pyplot as plt\n",
        "\n",
        "\n",
        "def train_function(x):\n",
        "    return np.sin(x)\n",
        "def split_sequence(sequence, n_steps):\n",
        "        X, y = list(), list()\n",
        "        for i in range(len(sequence)):\n",
        "                end_ix = i + n_steps\n",
        "                if end_ix > len(sequence)-1:\n",
        "                        break\n",
        "                seq_x, seq_y = sequence[i:end_ix], sequence[end_ix]\n",
        "                X.append(seq_x)\n",
        "                y.append(seq_y)\n",
        "        return np.array(X), np.array(y)\n",
        "# define input sequence\n",
        "xaxis = np.arange(-50*np.pi, 50*np.pi, 0.1)\n",
        "train_seq = train_function(xaxis)\n",
        "n_steps = 20\n",
        "X, y = split_sequence(train_seq, n_steps)\n",
        "# reshape from [samples, timesteps] into [samples, timesteps, features]\n",
        "n_features = 1\n",
        "X = X.reshape((X.shape[0], X.shape[1], n_features))\n",
        "print(\"X.shape = {}\".format(X.shape))\n",
        "print(\"y.shape = {}\".format(y.shape))\n",
        "\n",
        "plt.plot(xaxis[:200], train_seq[:200], label=\"predicitons\")"
      ],
      "execution_count": 0,
      "outputs": []
    },
    {
      "cell_type": "code",
      "metadata": {
        "id": "MVF1qnMhqXPD",
        "colab_type": "code",
        "colab": {}
      },
      "source": [
        "print(X[0])\n",
        "print(y[0])"
      ],
      "execution_count": 0,
      "outputs": []
    },
    {
      "cell_type": "code",
      "metadata": {
        "id": "GbldjOYSr-Cl",
        "colab_type": "code",
        "colab": {}
      },
      "source": [
        "plt.scatter(range(0,20),X[0,:,0])\n",
        "plt.scatter(20,y[0],s=100)\n",
        "plt.show()"
      ],
      "execution_count": 0,
      "outputs": []
    },
    {
      "cell_type": "code",
      "metadata": {
        "id": "cCmNQ-JDsRpL",
        "colab_type": "code",
        "colab": {}
      },
      "source": [
        "plt.scatter(range(0,20),X[10,:,0])\n",
        "plt.scatter(20,y[10],s=100)\n",
        "plt.show()"
      ],
      "execution_count": 0,
      "outputs": []
    },
    {
      "cell_type": "code",
      "metadata": {
        "id": "yyGfjkWEuDwn",
        "colab_type": "code",
        "colab": {}
      },
      "source": [
        "plt.scatter(range(0,20),X[20,:,0])\n",
        "plt.scatter(20,y[20],s=100)\n",
        "plt.show()"
      ],
      "execution_count": 0,
      "outputs": []
    },
    {
      "cell_type": "markdown",
      "metadata": {
        "id": "_Sd_Um_bupP6",
        "colab_type": "text"
      },
      "source": [
        "# Defining the Model"
      ]
    },
    {
      "cell_type": "code",
      "metadata": {
        "id": "WNxsxRvxurmu",
        "colab_type": "code",
        "colab": {}
      },
      "source": [
        "from keras.models import Sequential\n",
        "from keras.layers import LSTM, Dense\n",
        "\n",
        "model = Sequential()\n",
        "model.add(LSTM(10, input_shape=(20, 1), activation='tanh'))\n",
        "model.add(Dense(1, activation='tanh'))\n",
        "\n",
        "model.summary()\n",
        "model.compile(optimizer='adam', loss='mse')"
      ],
      "execution_count": 0,
      "outputs": []
    },
    {
      "cell_type": "markdown",
      "metadata": {
        "id": "Sm5N0qmQvUVd",
        "colab_type": "text"
      },
      "source": [
        "# Training the model"
      ]
    },
    {
      "cell_type": "code",
      "metadata": {
        "id": "qEMZ1Y48vWeN",
        "colab_type": "code",
        "colab": {}
      },
      "source": [
        "history = model.fit(X, y, epochs=20)\n",
        "plt.plot(history.history['loss'], label=\"loss\")\n",
        "plt.legend(loc=\"upper right\")\n",
        "plt.show()"
      ],
      "execution_count": 0,
      "outputs": []
    },
    {
      "cell_type": "markdown",
      "metadata": {
        "id": "5fhJz15_vm6r",
        "colab_type": "text"
      },
      "source": [
        "# Test the Model on Sine Function"
      ]
    },
    {
      "cell_type": "code",
      "metadata": {
        "id": "3U9zLLgmvXTy",
        "colab_type": "code",
        "colab": {}
      },
      "source": [
        "test_xaxis = np.arange(0, 10*np.pi, 0.1)\n",
        "def test_function(x):\n",
        "    return np.sin(x)\n",
        "calc_y = test_function(test_xaxis)\n",
        "# start with initial n values, rest will be predicted\n",
        "test_y = calc_y[:n_steps]\n",
        "results = []\n",
        "for i in range( len(test_xaxis) - n_steps ):\n",
        "    net_input = test_y[i : i + n_steps]\n",
        "    net_input = net_input.reshape((1, n_steps, n_features))\n",
        "    y = model.predict(net_input, verbose=0)\n",
        "    test_y = np.append(test_y, y)\n",
        "plt.plot(test_xaxis[n_steps:], test_y[n_steps:], label=\"predicitons\")\n",
        "plt.plot(test_xaxis, calc_y, label=\"ground truth\")\n",
        "plt.plot(test_xaxis[:n_steps], test_y[:n_steps], label=\"initial sequence\", color=\"red\")\n",
        "plt.legend(loc='upper left')\n",
        "plt.ylim(-2, 2)\n",
        "plt.show()"
      ],
      "execution_count": 0,
      "outputs": []
    },
    {
      "cell_type": "markdown",
      "metadata": {
        "id": "UNKrUvvMwNtm",
        "colab_type": "text"
      },
      "source": [
        "# Test the Model on Cosine Function"
      ]
    },
    {
      "cell_type": "code",
      "metadata": {
        "id": "sdwNrNbyvuyk",
        "colab_type": "code",
        "colab": {}
      },
      "source": [
        "test_xaxis = np.arange(0, 10*np.pi, 0.1)\n",
        "def test_function(x):\n",
        "    return np.cos(x)\n",
        "calc_y = test_function(test_xaxis)\n",
        "# start with initial n values, rest will be predicted\n",
        "test_y = calc_y[:n_steps]\n",
        "results = []\n",
        "for i in range( len(test_xaxis) - n_steps ):\n",
        "    net_input = test_y[i : i + n_steps]\n",
        "    net_input = net_input.reshape((1, n_steps, n_features))\n",
        "    y = model.predict(net_input, verbose=0)\n",
        "    test_y = np.append(test_y, y)\n",
        "plt.plot(test_xaxis[n_steps:], test_y[n_steps:], label=\"predicitons\")\n",
        "plt.plot(test_xaxis, calc_y, label=\"ground truth\")\n",
        "plt.plot(test_xaxis[:n_steps], test_y[:n_steps], label=\"initial sequence\", color=\"red\")\n",
        "plt.legend(loc='upper left')\n",
        "plt.ylim(-2, 2)\n",
        "plt.show()"
      ],
      "execution_count": 0,
      "outputs": []
    },
    {
      "cell_type": "code",
      "metadata": {
        "id": "-EbTZ8-swRFB",
        "colab_type": "code",
        "colab": {}
      },
      "source": [
        ""
      ],
      "execution_count": 0,
      "outputs": []
    }
  ]
}